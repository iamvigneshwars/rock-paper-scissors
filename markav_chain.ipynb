{
 "cells": [
  {
   "cell_type": "code",
   "execution_count": 2,
   "id": "e7108972",
   "metadata": {},
   "outputs": [],
   "source": [
    "freq_dist_win = {'rr': 1, 'rp': 1, 'rs': 1, 'pr': 1, 'pp': 1, 'ps': 1, 'sr': 1, 'sp': 1, 'ss': 1}\n",
    "freq_dist_lose = {'rr': 1, 'rp': 1, 'rs': 1, 'pr': 1, 'pp': 1, 'ps': 1, 'sr': 1, 'sp': 1, 'ss': 1}\n",
    "freq_dist_tie = {'rr': 1, 'rp': 1, 'rs': 1, 'pr': 1, 'pp': 1, 'ps': 1, 'sr': 1, 'sp': 1, 'ss': 1}"
   ]
  },
  {
   "cell_type": "code",
   "execution_count": 8,
   "id": "cdde945f",
   "metadata": {},
   "outputs": [],
   "source": [
    "transition_win = [[0] * 3 for i in range(3)]\n",
    "transition_lose = [[0] * 3 for i in range(3)]\n",
    "transition_tie = [[0] * 3 for i in range(3)]"
   ]
  },
  {
   "cell_type": "code",
   "execution_count": 10,
   "id": "2db82180",
   "metadata": {},
   "outputs": [],
   "source": [
    "choices = [\"Rock\",\"Paper\",\"Scissors\"]"
   ]
  },
  {
   "cell_type": "code",
   "execution_count": null,
   "id": "3e694596",
   "metadata": {},
   "outputs": [],
   "source": []
  }
 ],
 "metadata": {
  "kernelspec": {
   "display_name": "Python 3 (ipykernel)",
   "language": "python",
   "name": "python3"
  },
  "language_info": {
   "codemirror_mode": {
    "name": "ipython",
    "version": 3
   },
   "file_extension": ".py",
   "mimetype": "text/x-python",
   "name": "python",
   "nbconvert_exporter": "python",
   "pygments_lexer": "ipython3",
   "version": "3.9.7"
  }
 },
 "nbformat": 4,
 "nbformat_minor": 5
}
